{
 "cells": [
  {
   "cell_type": "markdown",
   "metadata": {},
   "source": [
    "### DCB Bank - Interview Project"
   ]
  },
  {
   "cell_type": "code",
   "execution_count": null,
   "metadata": {},
   "outputs": [],
   "source": [
    "import pandas as pd\n",
    "import re\n",
    "import json\n"
   ]
  },
  {
   "cell_type": "markdown",
   "metadata": {},
   "source": [
    "#### Task 1\n",
    "**Read the accompanied `input.xlsx` file as a pandas dataframe.** \n",
    "\n",
    "While reading the file, make sure of the following:\n",
    "* The first column (Sl No) should be read as the index\n",
    "* The first two rows shall be read as column headers\n",
    "* All columns should be read as strings and shall be converted later to other data format as and when required"
   ]
  },
  {
   "cell_type": "code",
   "execution_count": null,
   "metadata": {},
   "outputs": [],
   "source": [
    "# ToDo - complete the following line of code\n",
    "df = None \n",
    "\n",
    "# Do Not Change this part\n",
    "display(df.head())"
   ]
  },
  {
   "cell_type": "markdown",
   "metadata": {},
   "source": [
    "#### Task 2\n",
    "**Remove all Empty Rows.**\n",
    "\n",
    "Empty rows shall be identified using the `index`, i.e. whenever the index is `NaN`, remove such rows. For the remaining dataframe, convert the dtype of index from float to integer"
   ]
  },
  {
   "cell_type": "code",
   "execution_count": null,
   "metadata": {},
   "outputs": [],
   "source": [
    "# ToDo - Complete the following line of code\n",
    "df = None # filter out null values in index\n",
    "df.index = None #convert the index to integer from float\n",
    "display(df)"
   ]
  },
  {
   "cell_type": "markdown",
   "metadata": {},
   "source": [
    "#### Task 3\n",
    "**Separate the dataframe into two different dataframes. The first shall contain first 5 columns, while the second will contain rest**\n"
   ]
  },
  {
   "cell_type": "code",
   "execution_count": null,
   "metadata": {},
   "outputs": [],
   "source": [
    "# ToDo Complete following line of Code\n",
    "cust_info, acc_info = None, None"
   ]
  },
  {
   "cell_type": "markdown",
   "metadata": {},
   "source": [
    "#### Task 4\n",
    "**Process the `cust_info` dataframe**\n",
    "* Rename the column headers of `cust_info`. Drop the top level of header and simply convert the next level of headers into lower case and replace all **space** with **underscore**. Use this as the new column headers.\n",
    "* Validate that all **cust_id**s are 11 digit numerical\n",
    "* Convert **onboard_date** to any valid python date structure \n",
    "* Validate that **pan_no** is valid 11 char PAN no (5alpha-4numeric-1alpha)\n",
    "* Validate that **mobile_no** is either 10 digit numerical or 13 digit numeric whose first three digits are `+91`\n",
    "If any of the `cust_id` fail validation, you shall remove corresponding row ( consider the whole data to be faulty). However, if any other value fails a validation, simply replace it by **NaN**"
   ]
  },
  {
   "cell_type": "code",
   "execution_count": null,
   "metadata": {},
   "outputs": [],
   "source": [
    "# ToDo Apply the validations and checks mentioned above \n",
    "\n",
    "# Do not change this line of code\n",
    "display(cust_info)"
   ]
  },
  {
   "cell_type": "markdown",
   "metadata": {},
   "source": [
    "#### Task 5\n",
    "**Process the `acc_info` dataframe**\n",
    "1. Convert the panel dataframe into a longitudinal one. The new dataframe shall contain 3 columns - `acc_no`, `acc_type` and `bal`. The Sl No column shall be used as the index. The output of this code shall look like this:\n",
    "\n",
    "![acc_info](img/Capture.PNG)\n"
   ]
  },
  {
   "cell_type": "code",
   "execution_count": null,
   "metadata": {},
   "outputs": [],
   "source": [
    "#ToDo Convert the acc_info dataframe into a longitudinal shape, as shown in above table.\n"
   ]
  },
  {
   "cell_type": "markdown",
   "metadata": {},
   "source": [
    "#### Task 6\n",
    "**Create a new column `acc` in cust_info**\n",
    "\n",
    "Create a new column called `acc` in the cust_info dataframe. This column shall contain a list of dictionary containing the details of all accounts corresponding to that customer. "
   ]
  },
  {
   "cell_type": "code",
   "execution_count": null,
   "metadata": {},
   "outputs": [],
   "source": [
    "# This step is done for you. However, it will not run properly if you have not completed the previous tasks properly. \n",
    "# For additional credit, you may try to find some alternate way of doing this same task.\n",
    "acc_info.reset_index(inplace=True)\n",
    "cust_info['acc'] = cust_info.index.to_series().apply(\n",
    "            lambda x: acc_info.loc[acc_info['index'] == x, ['acc_no', 'acc_type', 'bal']].to_dict\n",
    "            (orient='record'))"
   ]
  },
  {
   "cell_type": "markdown",
   "metadata": {},
   "source": [
    "#### Task 7\n",
    "** Convert `cust_info` to a json string and write it to a file called _output.json_** \n",
    "Before the conversion, make sure that all the null values are replaced by space. "
   ]
  },
  {
   "cell_type": "code",
   "execution_count": null,
   "metadata": {},
   "outputs": [],
   "source": [
    "# ToDo: First convert the dataframe into a dictionary. Then write that dict as a json output.\n"
   ]
  },
  {
   "cell_type": "code",
   "execution_count": null,
   "metadata": {},
   "outputs": [],
   "source": []
  }
 ],
 "metadata": {
  "kernelspec": {
   "display_name": "Python 3",
   "language": "python",
   "name": "python3"
  },
  "language_info": {
   "codemirror_mode": {
    "name": "ipython",
    "version": 3
   },
   "file_extension": ".py",
   "mimetype": "text/x-python",
   "name": "python",
   "nbconvert_exporter": "python",
   "pygments_lexer": "ipython3",
   "version": "3.7.3"
  }
 },
 "nbformat": 4,
 "nbformat_minor": 2
}
